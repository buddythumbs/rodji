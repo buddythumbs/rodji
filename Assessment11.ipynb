{
 "cells": [
  {
   "cell_type": "markdown",
   "metadata": {},
   "source": [
    "Load in the digits data with\n",
    "    `digits = datasets.load_digits()`\n",
    "\n",
    "Remember that each sklearn data set comes with a target object (the response) and a data object (the explanatory variables). \n",
    "\n",
    "These data concern handwriting recognition so the response is a digit (0 to 9) and the explanatory variables are levels of grey on an 8 by 8 grid. \n",
    "\n",
    "You can get a plot of any row with:\n",
    "    `import matplotlib.pyplot as plt\n",
    "    choose_row = 100\n",
    "    plt.gray() \n",
    "    plt.matshow(digits.images[choose_row]) \n",
    "    plt.title(digits.target[choose_row])`\n",
    "\n",
    "\n",
    "Where here I've made the title the digit it's supposed to represent. You can compare digits.images with `digits.data[choose_row,:]` and see that the 8 by 8 pixel grid has just been re-arranged into a single row. \n",
    "\n",
    "Try changing the value of choose_row to see different digits and how they've been drawn. \n",
    "\n",
    "Note that this data set has an extra object 'images' that contains the 8 by 8 matrices containing the pixel intensities. \n",
    "\n",
    "Using the digits.images object, create a plot of the average pixel intensity across the entire data set. \n",
    "\n",
    "**Which pixel is used most (i.e. is the lightest colour)\n",
    "Hint: use np.sum with a suitable axis argument to find the average image values\n",
    "Write the row number and the column number separated by a space.**"
   ]
  },
  {
   "cell_type": "code",
   "execution_count": 12,
   "metadata": {
    "collapsed": false
   },
   "outputs": [
    {
     "data": {
      "text/plain": [
       "<matplotlib.figure.Figure at 0x11886dc90>"
      ]
     },
     "metadata": {},
     "output_type": "display_data"
    },
    {
     "data": {
      "image/png": "[encoded data removed]",
      "text/plain": [
       "<matplotlib.figure.Figure at 0x11885bdd0>"
      ]
     },
     "metadata": {},
     "output_type": "display_data"
    }
   ],
   "source": [
    "%matplotlib inline\n",
    "# plt.rcParams['figure.figsize'] = (18, 8)\n",
    "# Start by importing a data set\n",
    "from sklearn import datasets\n",
    "from pandas import Series, DataFrame\n",
    "import pandas as pd\n",
    "import numpy as np\n",
    "import matplotlib.pyplot as plt\n",
    "import seaborn as sns\n",
    "\n",
    "sns.axes_style('white')\n",
    "sns.set_style('white')\n",
    "\n",
    "digits = datasets.load_digits()\n",
    "\n",
    "choose_row = 44\n",
    "_ = plt.plasma() \n",
    "__ = plt.matshow(digits.images[choose_row]) \n",
    "___ = plt.title(digits.target[choose_row])"
   ]
  },
  {
   "cell_type": "markdown",
   "metadata": {},
   "source": [
    "### Get average intensity in each pixel and plot it.\n",
    "### Return the array of average intensities\n",
    "### Print out the row and column index of highest intensity"
   ]
  },
  {
   "cell_type": "code",
   "execution_count": 2,
   "metadata": {
    "collapsed": false
   },
   "outputs": [
    {
     "name": "stdout",
     "output_type": "stream",
     "text": [
      "Plot done - returning array of average intensities\n",
      "\n",
      "\n",
      "Index of max average intensity is: \n",
      "R: 7\n",
      "C: 3\n"
     ]
    },
    {
     "data": {
      "text/plain": [
       "<matplotlib.figure.Figure at 0x1166aa310>"
      ]
     },
     "metadata": {},
     "output_type": "display_data"
    },
    {
     "data": {
      "image/png": "[encoded data removed]",
      "text/plain": [
       "<matplotlib.figure.Figure at 0x116664250>"
      ]
     },
     "metadata": {},
     "output_type": "display_data"
    }
   ],
   "source": [
    "# Get average intensity in each pixel and plot it.\n",
    "# Return the array of average intensities\n",
    "# Print out the row and column index of highest intensity\n",
    "def plotAveIntesities(images):\n",
    "    sumarray=np.sum(digits.images, axis=0)/len(digits.images)\n",
    "    plt.plasma() \n",
    "    plt.matshow(sumarray) \n",
    "    plt.title('Average Intensity per pixel')\n",
    "    maxInt = np.unravel_index(sumarray.argmax(), sumarray.shape)\n",
    "    x=maxInt[1]\n",
    "    y=maxInt[0]\n",
    "    _=plt.annotate(# Assign last plotting statement to variable to stop output being plotted\n",
    "        s='Max: %d, %d'% maxInt,\n",
    "        xy=(x,y),\n",
    "        ha='center',va='center',\n",
    "        xytext=maxInt,\n",
    "        textcoords='offset points',\n",
    "        color='black',\n",
    "        weight='bold'\n",
    "    )\n",
    "    \n",
    "    print(\"Plot done - returning array of average intensities\")\n",
    "    print(\"\\n\\nIndex of max average intensity is: \\nR: %d\\nC: %d\" \n",
    "        % maxInt)\n",
    "    \n",
    "    return {\"Average\":sumarray,\"MaxLoc\":maxInt}\n",
    "\n",
    "# Run the function which will plot the average intensities and return dict with\n",
    "# computed average intensities and location of max intensity\n",
    "aveInt = plotAveIntesities(digits.images)"
   ]
  },
  {
   "cell_type": "markdown",
   "metadata": {},
   "source": [
    "### Create training, validation and test sets via the following code:"
   ]
  },
  {
   "cell_type": "code",
   "execution_count": 3,
   "metadata": {
    "collapsed": true
   },
   "outputs": [],
   "source": [
    "# Split into train and test data sets\n",
    "n_samples = len(digits.target)\n",
    "train_set = range(0,int(0.5*n_samples))\n",
    "val_set = range(int(0.5*n_samples),int(0.75*n_samples))\n",
    "test_set = range(int(0.75*n_samples),n_samples)\n",
    "X_train = DataFrame(digits.data[train_set])\n",
    "y_train = Series(digits.target[train_set])\n",
    "X_val = DataFrame(digits.data[val_set])\n",
    "y_val = Series(digits.target[val_set])\n",
    "X_test = DataFrame(digits.data[test_set])\n",
    "y_test = Series(digits.target[test_set])\n"
   ]
  },
  {
   "cell_type": "markdown",
   "metadata": {},
   "source": [
    "### Which is the most common digit in the training set?"
   ]
  },
  {
   "cell_type": "code",
   "execution_count": 4,
   "metadata": {
    "collapsed": false
   },
   "outputs": [
    {
     "data": {
      "text/plain": [
       "<matplotlib.text.Text at 0x116c4de50>"
      ]
     },
     "execution_count": 4,
     "metadata": {},
     "output_type": "execute_result"
    },
    {
     "data": {
      "image/png": "[encoded data removed]",
      "text/plain": [
       "<matplotlib.figure.Figure at 0x1166df050>"
      ]
     },
     "metadata": {},
     "output_type": "display_data"
    }
   ],
   "source": [
    "# Find most common digit in train set\n",
    "y_train.value_counts().plot(kind='bar')\n",
    "plt.title('Frequencies of labels in Train data')"
   ]
  },
  {
   "cell_type": "markdown",
   "metadata": {},
   "source": [
    "Use the following code to import the SVM, kNN and RF classifiers\n",
    "    \n",
    "    from sklearn.svm import LinearSVC\n",
    "    from sklearn.neighbors import KNeighborsClassifier\n",
    "    from sklearn.ensemble import RandomForestClassifier\n",
    "Run the three classifiers on the training set with their default parameter values. \n",
    "\n",
    "Each fitted object will then have an attribute score which gives the accuracy of the classifier \n",
    "\n",
    "(i.e. 1 - misclassification rate). \n",
    "\n",
    "**Which has the highest score on the test data?**\n",
    "(write knn, rf or svm)"
   ]
  },
  {
   "cell_type": "code",
   "execution_count": 5,
   "metadata": {
    "collapsed": false
   },
   "outputs": [
    {
     "name": "stdout",
     "output_type": "stream",
     "text": [
      "Accuracy of Linear Support Vector Machine classifier on test data 0.89\n",
      "Accuracy of K Nearest Neighbours on test data 0.95\n",
      "Accuracy of Random forest classifier on test data 0.85\n"
     ]
    },
    {
     "name": "stderr",
     "output_type": "stream",
     "text": [
      "/Users/martinoleary/Library/Enthought/Canopy_64bit/User/lib/python2.7/site-packages/sklearn/cross_validation.py:44: DeprecationWarning: This module was deprecated in version 0.18 in favor of the model_selection module into which all the refactored classes and functions are moved. Also note that the interface of the new CV iterators are different from that of this module. This module will be removed in 0.20.\n",
      "  \"This module will be removed in 0.20.\", DeprecationWarning)\n",
      "/Users/martinoleary/Library/Enthought/Canopy_64bit/User/lib/python2.7/site-packages/sklearn/grid_search.py:43: DeprecationWarning: This module was deprecated in version 0.18 in favor of the model_selection module into which all the refactored classes and functions are moved. This module will be removed in 0.20.\n",
      "  DeprecationWarning)\n",
      "/Users/martinoleary/Library/Enthought/Canopy_64bit/User/lib/python2.7/site-packages/sklearn/lda.py:6: DeprecationWarning: lda.LDA has been moved to discriminant_analysis.LinearDiscriminantAnalysis in 0.17 and will be removed in 0.19\n",
      "  \"in 0.17 and will be removed in 0.19\", DeprecationWarning)\n",
      "/Users/martinoleary/Library/Enthought/Canopy_64bit/User/lib/python2.7/site-packages/sklearn/learning_curve.py:23: DeprecationWarning: This module was deprecated in version 0.18 in favor of the model_selection module into which all the functions are moved. This module will be removed in 0.20\n",
      "  DeprecationWarning)\n",
      "/Users/martinoleary/Library/Enthought/Canopy_64bit/User/lib/python2.7/site-packages/sklearn/qda.py:6: DeprecationWarning: qda.QDA has been moved to discriminant_analysis.QuadraticDiscriminantAnalysis in 0.17 and will be removed in 0.19.\n",
      "  \"in 0.17 and will be removed in 0.19.\", DeprecationWarning)\n"
     ]
    }
   ],
   "source": [
    "# Import classifiers\n",
    "# Run the three classifiers on the training set with their default parameter \n",
    "# values. Each fitted object will then have an attribute score which gives the \n",
    "# accuracy of the classifier (i.e. 1 - misclassification rate). Which has the \n",
    "# highest score on the test data?\n",
    "# (write knn, rf or svm)\n",
    "from sklearn import *\n",
    "from sklearn.svm import LinearSVC\n",
    "from sklearn.neighbors import KNeighborsClassifier\n",
    "from sklearn.ensemble import RandomForestClassifier\n",
    "clf1 = LinearSVC()\n",
    "clf2 = KNeighborsClassifier()\n",
    "clf3 = RandomForestClassifier()\n",
    "# get accuracy\n",
    "print(\"Accuracy of Linear Support Vector Machine classifier on test data %.2f\" % clf1.fit(X_train,y_train).score(X_test,y_test))\n",
    "print(\"Accuracy of K Nearest Neighbours on test data %.2f\" % clf2.fit(X_train,y_train).score(X_test,y_test))\n",
    "print(\"Accuracy of Random forest classifier on test data %.2f\" % clf3.fit(X_train,y_train).score(X_test,y_test))"
   ]
  },
  {
   "cell_type": "markdown",
   "metadata": {},
   "source": [
    "Each of the above models has key parameters which we might like to estimate. \n",
    "\n",
    "For example, we might want to estimate the 'best' number of neighbours to use in kNN. \n",
    "\n",
    "To do this, we fit kNN with differing values of k to the training set and compare performance on the validation test. Some code to do this is below:\n",
    "\n",
    "    kvals = range(1,11)\n",
    "    knn_scores = [KNeighborsClassifier(n_neighbors=kval).fit(X_train,y_train).score(X_val,y_val) for kval in kvals]\n",
    "\n",
    "You should see that the best score is when k=1 and acheives <kbd>96.9%</kbd> accuracy. \n",
    "\n",
    "Repeat the above code but for the RF and SVM models. \n",
    "\n",
    "For the RF model change the <kbd>n_estimators</kbd> parameter on the grid <kbd>5, 10, ... 30</kbd>. \n",
    "\n",
    "For the SVM model change the <kbd>C parameter</kbd> on the values <kbd>0.001, 0.01, 0.1, 1, 10 100</kbd>. \n",
    "\n",
    "Write the best value of n_estimators and C separated by a space. If you get two values with the same score write the smallest.\n",
    " \n",
    "(Hint: use random_state=123 as an extra argument to your RF classifier to get repeatable results)."
   ]
  },
  {
   "cell_type": "code",
   "execution_count": 6,
   "metadata": {
    "collapsed": false
   },
   "outputs": [
    {
     "name": "stdout",
     "output_type": "stream",
     "text": [
      "Accuracies per parameter:\n",
      "1     0.968820\n",
      "2     0.966592\n",
      "3     0.964365\n",
      "4     0.951002\n",
      "5     0.957684\n",
      "6     0.955457\n",
      "7     0.953229\n",
      "8     0.951002\n",
      "9     0.951002\n",
      "10    0.957684\n",
      "dtype: float64\n",
      "Best K value is 1 \n"
     ]
    },
    {
     "data": {
      "text/plain": [
       "<matplotlib.axes._subplots.AxesSubplot at 0x1185f6050>"
      ]
     },
     "execution_count": 6,
     "metadata": {},
     "output_type": "execute_result"
    },
    {
     "data": {
      "image/png": "[encoded data removed]",
      "text/plain": [
       "<matplotlib.figure.Figure at 0x11860ca10>"
      ]
     },
     "metadata": {},
     "output_type": "display_data"
    }
   ],
   "source": [
    "# Now that KNN is found to be the best out of the box classifier let's imporve\n",
    "# it by tweaking the model paramter K\n",
    "kvals = range(1,11)\n",
    "knn_scores = pd.Series([KNeighborsClassifier(n_neighbors=kval)\n",
    "                        .fit(X_train,y_train)\n",
    "                        .score(X_val,y_val) for kval in kvals],index=kvals)\n",
    "print \"Accuracies per parameter:\\n\",knn_scores\n",
    "print \"Best K value is %d \" % knn_scores.index[knn_scores.values.argmax()]\n",
    "knn_scores.plot()"
   ]
  },
  {
   "cell_type": "markdown",
   "metadata": {},
   "source": [
    "### For the n vals in Random Forrest"
   ]
  },
  {
   "cell_type": "code",
   "execution_count": 7,
   "metadata": {
    "collapsed": false
   },
   "outputs": [
    {
     "name": "stdout",
     "output_type": "stream",
     "text": [
      "Accuracies per parameter:\n",
      "5     0.839644\n",
      "10    0.899777\n",
      "15    0.913140\n",
      "20    0.944321\n",
      "25    0.946548\n",
      "30    0.946548\n",
      "dtype: float64\n",
      "Best N_estimatores value is 25 \n"
     ]
    },
    {
     "data": {
      "text/plain": [
       "<matplotlib.axes._subplots.AxesSubplot at 0x113c2ec50>"
      ]
     },
     "execution_count": 7,
     "metadata": {},
     "output_type": "execute_result"
    },
    {
     "data": {
      "image/png": "[encoded data removed]",
      "text/plain": [
       "<matplotlib.figure.Figure at 0x113c30110>"
      ]
     },
     "metadata": {},
     "output_type": "display_data"
    }
   ],
   "source": [
    "n_vals = range(5,35,5)\n",
    "RF_scores = pd.Series([RandomForestClassifier(n_estimators=nval,random_state=123)\n",
    "                       .fit(X_train,y_train)\n",
    "                       .score(X_val,y_val) for nval in n_vals],index=n_vals)\n",
    "print \"Accuracies per parameter:\\n\",RF_scores\n",
    "print \"Best N_estimatores value is %d \" % RF_scores.index[RF_scores.values.argmax()]\n",
    "RF_scores.plot()"
   ]
  },
  {
   "cell_type": "markdown",
   "metadata": {},
   "source": [
    "### For the C vals in Linear SVM"
   ]
  },
  {
   "cell_type": "code",
   "execution_count": 8,
   "metadata": {
    "collapsed": false
   },
   "outputs": [
    {
     "name": "stdout",
     "output_type": "stream",
     "text": [
      "Accuracies per parameter:\n",
      "0.001      0.953229\n",
      "0.010      0.942094\n",
      "0.100      0.928731\n",
      "1.000      0.924276\n",
      "10.000     0.928731\n",
      "100.000    0.928731\n",
      "dtype: float64\n",
      "Best C value is 0.001 \n"
     ]
    },
    {
     "data": {
      "text/plain": [
       "<matplotlib.axes._subplots.AxesSubplot at 0x11860dfd0>"
      ]
     },
     "execution_count": 8,
     "metadata": {},
     "output_type": "execute_result"
    },
    {
     "data": {
      "image/png": "[encoded data removed]",
      "text/plain": [
       "<matplotlib.figure.Figure at 0x11865b390>"
      ]
     },
     "metadata": {},
     "output_type": "display_data"
    }
   ],
   "source": [
    "c_vals = np.array([0.001,0.01,0.1,1,10,100])\n",
    "LSVM_scores = pd.Series([LinearSVC(C=cval)\n",
    "                         .fit(X_train,y_train)\n",
    "                         .score(X_val,y_val) for cval in c_vals],index=c_vals)\n",
    "print \"Accuracies per parameter:\\n\",LSVM_scores\n",
    "print \"Best C value is %.3f \" % LSVM_scores.index[LSVM_scores.values.argmax()]\n",
    "LSVM_scores.plot()"
   ]
  },
  {
   "cell_type": "markdown",
   "metadata": {},
   "source": [
    "### Use your best knn, rf and svm models to predict for the test data set. Which model performs best? (write knn, rf, or svm)"
   ]
  },
  {
   "cell_type": "code",
   "execution_count": 9,
   "metadata": {
    "collapsed": false
   },
   "outputs": [
    {
     "name": "stdout",
     "output_type": "stream",
     "text": [
      "Accuracy of Linear Support Vector Machine classifier on test data 0.91\n",
      "Accuracy of K Nearest Neighbours on test data 0.95\n",
      "Accuracy of Random forest classifier on test data 0.91\n"
     ]
    }
   ],
   "source": [
    "clf1 = LinearSVC(C=LSVM_scores.index[LSVM_scores.values.argmax()])\n",
    "clf2 = KNeighborsClassifier(n_neighbors=knn_scores.index[knn_scores.values.argmax()])\n",
    "clf3 = RandomForestClassifier(n_estimators=RF_scores.index[RF_scores.values.argmax()])\n",
    "# get accuracy\n",
    "print(\"Accuracy of Linear Support Vector Machine classifier on test data %.2f\" % clf1.fit(X_train,y_train).score(X_test,y_test))\n",
    "print(\"Accuracy of K Nearest Neighbours on test data %.2f\" % clf2.fit(X_train,y_train).score(X_test,y_test))\n",
    "print(\"Accuracy of Random forest classifier on test data %.2f\" % clf3.fit(X_train,y_train).score(X_test,y_test))"
   ]
  },
  {
   "cell_type": "code",
   "execution_count": null,
   "metadata": {
    "collapsed": true
   },
   "outputs": [],
   "source": []
  }
 ],
 "metadata": {
  "kernelspec": {
   "display_name": "Python 2",
   "language": "python",
   "name": "python2"
  },
  "language_info": {
   "codemirror_mode": {
    "name": "ipython",
    "version": 2
   },
   "file_extension": ".py",
   "mimetype": "text/x-python",
   "name": "python",
   "nbconvert_exporter": "python",
   "pygments_lexer": "ipython2",
   "version": "2.7.11"
  }
 },
 "nbformat": 4,
 "nbformat_minor": 0
}
